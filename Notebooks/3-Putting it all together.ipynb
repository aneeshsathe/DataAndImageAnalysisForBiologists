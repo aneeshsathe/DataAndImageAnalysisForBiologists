{
 "cells": [
  {
   "cell_type": "markdown",
   "metadata": {
    "toc": "true"
   },
   "source": [
    "# Table of Contents\n",
    " <p><div class=\"lev1 toc-item\"><a href=\"#Looping-the-Property-Extraction\" data-toc-modified-id=\"Looping-the-Property-Extraction-1\"><span class=\"toc-item-num\">1&nbsp;&nbsp;</span>Looping the Property Extraction</a></div><div class=\"lev1 toc-item\"><a href=\"#Functions\" data-toc-modified-id=\"Functions-2\"><span class=\"toc-item-num\">2&nbsp;&nbsp;</span>Functions</a></div><div class=\"lev1 toc-item\"><a href=\"#Filling-arrays-in-a-loop\" data-toc-modified-id=\"Filling-arrays-in-a-loop-3\"><span class=\"toc-item-num\">3&nbsp;&nbsp;</span>Filling arrays in a loop</a></div><div class=\"lev1 toc-item\"><a href=\"#Saving-your-results-to-disk\" data-toc-modified-id=\"Saving-your-results-to-disk-4\"><span class=\"toc-item-num\">4&nbsp;&nbsp;</span>Saving your results to disk</a></div><div class=\"lev1 toc-item\"><a href=\"#Data-Summary\" data-toc-modified-id=\"Data-Summary-5\"><span class=\"toc-item-num\">5&nbsp;&nbsp;</span>Data Summary</a></div><div class=\"lev1 toc-item\"><a href=\"#Plotting-Data\" data-toc-modified-id=\"Plotting-Data-6\"><span class=\"toc-item-num\">6&nbsp;&nbsp;</span>Plotting Data</a></div><div class=\"lev2 toc-item\"><a href=\"#Histograms\" data-toc-modified-id=\"Histograms-61\"><span class=\"toc-item-num\">6.1&nbsp;&nbsp;</span>Histograms</a></div><div class=\"lev2 toc-item\"><a href=\"#Box-Plots\" data-toc-modified-id=\"Box-Plots-62\"><span class=\"toc-item-num\">6.2&nbsp;&nbsp;</span>Box-Plots</a></div><div class=\"lev1 toc-item\"><a href=\"#The-End\" data-toc-modified-id=\"The-End-7\"><span class=\"toc-item-num\">7&nbsp;&nbsp;</span>The End</a></div>"
   ]
  },
  {
   "cell_type": "markdown",
   "metadata": {},
   "source": [
    "# Looping the Property Extraction"
   ]
  },
  {
   "cell_type": "markdown",
   "metadata": {},
   "source": [
    "In the last exercise we saw how to extract the properties of individual objects in an image. We will now combine all the actions of reading, thresholding, labeling and measuring into a loop. \n",
    "\n",
    "To make it easy to understand I have pasted a possible method of doing this, try to understand as much as you can by looking at the program and reading the comments. We will briefly explore parts of the code subsequently."
   ]
  },
  {
   "cell_type": "code",
   "execution_count": 8,
   "metadata": {
    "code_folding": []
   },
   "outputs": [],
   "source": [
    "# Import required packages\n",
    "# File handling\n",
    "import os\n",
    "import glob\n",
    "# Array handling\n",
    "import numpy as np\n",
    "# Image handling\n",
    "from skimage.io import imread \n",
    "# Image thresholding and measurement\n",
    "from skimage.filters import threshold_otsu\n",
    "from skimage.morphology import remove_small_objects\n",
    "from skimage.measure import label, regionprops\n",
    "\n",
    "\n",
    "# Instruction to jupyter notebook to show images within document\n",
    "%matplotlib inline\n",
    "\n",
    "\n",
    "# Function to label images\n",
    "def an_thresh_label_image(in_img):\n",
    "    \"\"\"Funtion to take in image and return a labelled image for use in regionprops. \n",
    "    The remove_small_objects() function is applied to remove small bright objects\"\"\"\n",
    "    \n",
    "    thresh_val = threshold_otsu(in_img)\n",
    "    thresh_img = in_img>thresh_val\n",
    "    thresh_img = remove_small_objects(thresh_img)\n",
    "    label_img = label(thresh_img)\n",
    "    return label_img\n",
    "\n",
    "\n",
    "###### MAIN PROGRAM ######\n",
    "\n",
    "# Define file paths and image pattern\n",
    "root_root = '/home/aneesh/Images/Source/' # Replace as per local configuration\n",
    "file_patt = '/*.tif' # pattern of file that is searched for by glob.glob()\n",
    "\n",
    "# Get list of folders with images\n",
    "folds = os.listdir(root_root)\n",
    "# Get a list of lists (corresponding to number of folders) of full file paths\n",
    "file_paths = [glob.glob(root_root+fold+file_patt) for fold in folds]\n",
    "\n",
    "# Define empty arrays to be filled in the loop\n",
    "out_celltype = np.array([])\n",
    "out_area = np.array([])\n",
    "out_maj_axis_length = np.array([])\n",
    "# Iterate over lists in the file_paths list\n",
    "for i, fold in enumerate(file_paths):\n",
    "    # Iterate over individual file paths in the lists\n",
    "    for j,file_path in enumerate(fold):\n",
    "        # Read Image\n",
    "        in_img = imread(file_path, as_grey=True)\n",
    "        # Label Image\n",
    "        lbl_im = an_thresh_label_image(in_img)\n",
    "        \n",
    "        # Extract properties\n",
    "        r_props = regionprops(label_image=lbl_im, intensity_image=in_img)\n",
    "        # Store Area\n",
    "        out_area = np.append(out_area, np.array([rp.area for rp in r_props]))\n",
    "        # Store Major Axis Length\n",
    "        out_maj_axis_length = np.append(out_maj_axis_length, np.array([rp.major_axis_length for rp in r_props])) \n",
    "        # Store cell type corresponding to each object\n",
    "        out_celltype = np.append(out_celltype,[folds[i]]*len(r_props))        "
   ]
  },
  {
   "cell_type": "markdown",
   "metadata": {},
   "source": [
    "# Functions"
   ]
  },
  {
   "cell_type": "markdown",
   "metadata": {},
   "source": [
    "As you read through the program, most things will seem familiar except this section:"
   ]
  },
  {
   "cell_type": "code",
   "execution_count": null,
   "metadata": {
    "collapsed": true
   },
   "outputs": [],
   "source": [
    "# Function to label images\n",
    "def an_thresh_label_image(in_img):\n",
    "    \"\"\"Funtion to take in image and return a labelled image for use in regionprops. \n",
    "    The remove_small_objects() function is applied to remove small bright objects\"\"\"\n",
    "    \n",
    "    thresh_val = threshold_otsu(in_img)\n",
    "    thresh_img = in_img>thresh_val\n",
    "    thresh_img = remove_small_objects(thresh_img)\n",
    "    label_img = label(thresh_img)\n",
    "    return label_img"
   ]
  },
  {
   "cell_type": "markdown",
   "metadata": {},
   "source": [
    "\n",
    "This is a function definition.. That's right we can define our own functions. This function in particular takes a normal image as the input, performs thresholding, removes small objects, performs labeling and returns the labelled image. \n",
    "\n",
    "The function might seem unnecessrary when you can just put then code in your main program. However functions allow you to break up the program into smaller bits which are easier to manage and test. You should employ functions every chance you get. Cleaner, easier to read code is much easier to understand. \n",
    "\n",
    "If you come from other programming languages, you will be a bit irritated by the fact that Python does not use explicit start and end curly brackets to define where a function starts and ends. Instead, like with for-loops, the indentation determines the function definition. \n",
    "\n",
    "Some functions return an object and some don't. The funtion `print()` for example doesn't actually return anything, but isntead just prints a statement on the screen. In contrast our function returns a labeled image. This is defined by the line:\n",
    "\n",
    "`return label_image`\n",
    "\n",
    "This function gets called in the inner loop of the main program after the image is read. It is important to understand that what is done in a function stays in the function. This means that the variables defined, the names of the variable exist only in the context of the function. Even the values returned are returned without name. Thus when the function is called we store the result in the variable '`lbl_im`. "
   ]
  },
  {
   "cell_type": "markdown",
   "metadata": {},
   "source": [
    "# Filling arrays in a loop"
   ]
  },
  {
   "cell_type": "markdown",
   "metadata": {},
   "source": [
    "The next lines where we define the paths and get the file lists should also be familiar. Since we want to extract and work with the properties extracted from the images we need to store them in some fashion. For this we employ arrays. At the start of the loops we define empty arrays:"
   ]
  },
  {
   "cell_type": "code",
   "execution_count": null,
   "metadata": {
    "collapsed": true
   },
   "outputs": [],
   "source": [
    "# Define empty arrays to be filled in the loop\n",
    "out_celltype = np.array([])\n",
    "out_area = np.array([])\n",
    "out_maj_axis_length = np.array([])"
   ]
  },
  {
   "cell_type": "markdown",
   "metadata": {},
   "source": [
    "These arrays are then filled in the loop with the extracted properties. The \"filling\" is done by actually appending new values to the old array and calling the this new appended array the same name as the old array. This renaming allows us to loop over without much of a headache. \n",
    "For example the `out_area` array is filled as below:"
   ]
  },
  {
   "cell_type": "code",
   "execution_count": null,
   "metadata": {
    "collapsed": true
   },
   "outputs": [],
   "source": [
    "out_area = np.append(out_area, np.array([rp.area for rp in r_props]))"
   ]
  },
  {
   "cell_type": "markdown",
   "metadata": {},
   "source": [
    "**Note:** The way of filling arrays that we have employed works well enough for our small example but might be unsatisfactory due to the memory reallocation overheads for larger datasets. There are ways around this such as \"preallocation\" which should be looked at if needed. "
   ]
  },
  {
   "cell_type": "markdown",
   "metadata": {},
   "source": [
    "# Saving your results to disk"
   ]
  },
  {
   "cell_type": "markdown",
   "metadata": {},
   "source": [
    "Now that we have all the properties we want saved in 3 arrays, we would like to save the results to a file which we can open for statistical analysis such as Excel, Origin or GraphPad. The go-to format for such files is the csv format. In python the \"pandas\" package gives a very handy way of creating data types called \"DataFrames\" to collect information in a spreadsheet like system and also save it. \n",
    "\n",
    "This is done as below:"
   ]
  },
  {
   "cell_type": "code",
   "execution_count": null,
   "metadata": {
    "collapsed": true
   },
   "outputs": [],
   "source": [
    "import pandas as pd\n",
    "\n",
    "# path to save csv file\n",
    "save_path = '/home/aneesh/Images/Analysis/'\n",
    "\n",
    "# create data frame using the created arrays as input. Each array is named by the strings in quotes.\n",
    "props_df = pd.DataFrame.from_items([(\"CellType\",out_celltype), (\"Area\",out_area), (\"MajAxisLength\",out_maj_axis_length)])\n",
    "\n",
    "# combine the save path with file name and save to csv format\n",
    "props_df.to_csv(save_path+'cell_props.csv')"
   ]
  },
  {
   "cell_type": "markdown",
   "metadata": {},
   "source": [
    "We can peek into what the dataframe looks like with the head function. The n=5 specifies that the first 5 rows should be shown. "
   ]
  },
  {
   "cell_type": "code",
   "execution_count": 14,
   "metadata": {},
   "outputs": [
    {
     "data": {
      "text/html": [
       "<div>\n",
       "<style>\n",
       "    .dataframe thead tr:only-child th {\n",
       "        text-align: right;\n",
       "    }\n",
       "\n",
       "    .dataframe thead th {\n",
       "        text-align: left;\n",
       "    }\n",
       "\n",
       "    .dataframe tbody tr th {\n",
       "        vertical-align: top;\n",
       "    }\n",
       "</style>\n",
       "<table border=\"1\" class=\"dataframe\">\n",
       "  <thead>\n",
       "    <tr style=\"text-align: right;\">\n",
       "      <th></th>\n",
       "      <th>CellType</th>\n",
       "      <th>Area</th>\n",
       "      <th>MajAxisLength</th>\n",
       "    </tr>\n",
       "  </thead>\n",
       "  <tbody>\n",
       "    <tr>\n",
       "      <th>0</th>\n",
       "      <td>Type1</td>\n",
       "      <td>4599.0</td>\n",
       "      <td>105.941994</td>\n",
       "    </tr>\n",
       "    <tr>\n",
       "      <th>1</th>\n",
       "      <td>Type1</td>\n",
       "      <td>4017.0</td>\n",
       "      <td>91.226561</td>\n",
       "    </tr>\n",
       "    <tr>\n",
       "      <th>2</th>\n",
       "      <td>Type1</td>\n",
       "      <td>5648.0</td>\n",
       "      <td>108.537092</td>\n",
       "    </tr>\n",
       "    <tr>\n",
       "      <th>3</th>\n",
       "      <td>Type1</td>\n",
       "      <td>4623.0</td>\n",
       "      <td>99.203589</td>\n",
       "    </tr>\n",
       "    <tr>\n",
       "      <th>4</th>\n",
       "      <td>Type1</td>\n",
       "      <td>3873.0</td>\n",
       "      <td>85.080347</td>\n",
       "    </tr>\n",
       "  </tbody>\n",
       "</table>\n",
       "</div>"
      ],
      "text/plain": [
       "  CellType    Area  MajAxisLength\n",
       "0    Type1  4599.0     105.941994\n",
       "1    Type1  4017.0      91.226561\n",
       "2    Type1  5648.0     108.537092\n",
       "3    Type1  4623.0      99.203589\n",
       "4    Type1  3873.0      85.080347"
      ]
     },
     "execution_count": 14,
     "metadata": {},
     "output_type": "execute_result"
    }
   ],
   "source": [
    "props_df.head(n=5)"
   ]
  },
  {
   "cell_type": "markdown",
   "metadata": {},
   "source": [
    "# Data Summary"
   ]
  },
  {
   "cell_type": "markdown",
   "metadata": {},
   "source": [
    "So far read the images and stored them in a dataframe. We can do further statistical analysis is external software, however Python is suffcient for doing some quick analysis to get a genereal read on your data. The pandas package makes it very easy to plot data and to get basic stats like mean, sd and percentiles. \n",
    "\n",
    "Advanced statistical analysis is also possible in Python however it is out of the scope of this document. "
   ]
  },
  {
   "cell_type": "markdown",
   "metadata": {},
   "source": [
    "The describe function returns basic stats about the data. Notice that the `groupby()` function is used to get stats specific to the cell types. The 'Area' string corresponds to the column name on which the describe function acts"
   ]
  },
  {
   "cell_type": "code",
   "execution_count": 15,
   "metadata": {},
   "outputs": [
    {
     "data": {
      "text/html": [
       "<div>\n",
       "<style>\n",
       "    .dataframe thead tr:only-child th {\n",
       "        text-align: right;\n",
       "    }\n",
       "\n",
       "    .dataframe thead th {\n",
       "        text-align: left;\n",
       "    }\n",
       "\n",
       "    .dataframe tbody tr th {\n",
       "        vertical-align: top;\n",
       "    }\n",
       "</style>\n",
       "<table border=\"1\" class=\"dataframe\">\n",
       "  <thead>\n",
       "    <tr style=\"text-align: right;\">\n",
       "      <th></th>\n",
       "      <th>count</th>\n",
       "      <th>mean</th>\n",
       "      <th>std</th>\n",
       "      <th>min</th>\n",
       "      <th>25%</th>\n",
       "      <th>50%</th>\n",
       "      <th>75%</th>\n",
       "      <th>max</th>\n",
       "    </tr>\n",
       "    <tr>\n",
       "      <th>CellType</th>\n",
       "      <th></th>\n",
       "      <th></th>\n",
       "      <th></th>\n",
       "      <th></th>\n",
       "      <th></th>\n",
       "      <th></th>\n",
       "      <th></th>\n",
       "      <th></th>\n",
       "    </tr>\n",
       "  </thead>\n",
       "  <tbody>\n",
       "    <tr>\n",
       "      <th>Type1</th>\n",
       "      <td>54.0</td>\n",
       "      <td>5007.333333</td>\n",
       "      <td>1584.721962</td>\n",
       "      <td>75.0</td>\n",
       "      <td>4125.75</td>\n",
       "      <td>5135.0</td>\n",
       "      <td>6029.25</td>\n",
       "      <td>9793.0</td>\n",
       "    </tr>\n",
       "    <tr>\n",
       "      <th>Type2</th>\n",
       "      <td>99.0</td>\n",
       "      <td>3661.646465</td>\n",
       "      <td>1018.297502</td>\n",
       "      <td>621.0</td>\n",
       "      <td>3163.50</td>\n",
       "      <td>3656.0</td>\n",
       "      <td>4166.50</td>\n",
       "      <td>8938.0</td>\n",
       "    </tr>\n",
       "  </tbody>\n",
       "</table>\n",
       "</div>"
      ],
      "text/plain": [
       "          count         mean          std    min      25%     50%      75%  \\\n",
       "CellType                                                                     \n",
       "Type1      54.0  5007.333333  1584.721962   75.0  4125.75  5135.0  6029.25   \n",
       "Type2      99.0  3661.646465  1018.297502  621.0  3163.50  3656.0  4166.50   \n",
       "\n",
       "             max  \n",
       "CellType          \n",
       "Type1     9793.0  \n",
       "Type2     8938.0  "
      ]
     },
     "execution_count": 15,
     "metadata": {},
     "output_type": "execute_result"
    }
   ],
   "source": [
    "area_summary = pd.DataFrame(props_df.groupby([\"CellType\"])['Area'].describe())\n",
    "area_summary"
   ]
  },
  {
   "cell_type": "code",
   "execution_count": 16,
   "metadata": {},
   "outputs": [
    {
     "data": {
      "text/html": [
       "<div>\n",
       "<style>\n",
       "    .dataframe thead tr:only-child th {\n",
       "        text-align: right;\n",
       "    }\n",
       "\n",
       "    .dataframe thead th {\n",
       "        text-align: left;\n",
       "    }\n",
       "\n",
       "    .dataframe tbody tr th {\n",
       "        vertical-align: top;\n",
       "    }\n",
       "</style>\n",
       "<table border=\"1\" class=\"dataframe\">\n",
       "  <thead>\n",
       "    <tr style=\"text-align: right;\">\n",
       "      <th></th>\n",
       "      <th>count</th>\n",
       "      <th>mean</th>\n",
       "      <th>std</th>\n",
       "      <th>min</th>\n",
       "      <th>25%</th>\n",
       "      <th>50%</th>\n",
       "      <th>75%</th>\n",
       "      <th>max</th>\n",
       "    </tr>\n",
       "    <tr>\n",
       "      <th>CellType</th>\n",
       "      <th></th>\n",
       "      <th></th>\n",
       "      <th></th>\n",
       "      <th></th>\n",
       "      <th></th>\n",
       "      <th></th>\n",
       "      <th></th>\n",
       "      <th></th>\n",
       "    </tr>\n",
       "  </thead>\n",
       "  <tbody>\n",
       "    <tr>\n",
       "      <th>Type1</th>\n",
       "      <td>54.0</td>\n",
       "      <td>96.314149</td>\n",
       "      <td>19.125682</td>\n",
       "      <td>11.833394</td>\n",
       "      <td>88.946789</td>\n",
       "      <td>100.277804</td>\n",
       "      <td>106.796754</td>\n",
       "      <td>119.032598</td>\n",
       "    </tr>\n",
       "    <tr>\n",
       "      <th>Type2</th>\n",
       "      <td>99.0</td>\n",
       "      <td>85.319601</td>\n",
       "      <td>13.678922</td>\n",
       "      <td>45.509741</td>\n",
       "      <td>77.466899</td>\n",
       "      <td>84.254306</td>\n",
       "      <td>92.300083</td>\n",
       "      <td>146.689857</td>\n",
       "    </tr>\n",
       "  </tbody>\n",
       "</table>\n",
       "</div>"
      ],
      "text/plain": [
       "          count       mean        std        min        25%         50%  \\\n",
       "CellType                                                                  \n",
       "Type1      54.0  96.314149  19.125682  11.833394  88.946789  100.277804   \n",
       "Type2      99.0  85.319601  13.678922  45.509741  77.466899   84.254306   \n",
       "\n",
       "                 75%         max  \n",
       "CellType                          \n",
       "Type1     106.796754  119.032598  \n",
       "Type2      92.300083  146.689857  "
      ]
     },
     "execution_count": 16,
     "metadata": {},
     "output_type": "execute_result"
    }
   ],
   "source": [
    "mal_summary = pd.DataFrame(props_df.groupby([\"CellType\"])['MajAxisLength'].describe())\n",
    "mal_summary"
   ]
  },
  {
   "cell_type": "markdown",
   "metadata": {},
   "source": [
    "# Plotting Data"
   ]
  },
  {
   "cell_type": "markdown",
   "metadata": {},
   "source": [
    "The pandas dataframe also makes it easy to plot different kinds of plots once the data frame has been defined. Below we describe how to plot histograms and box-plots. These are rough plots and the looks can be improved with some tinkering. Read the matplotlib package's tutorials for how to go about making the exact kind of plots you want. "
   ]
  },
  {
   "cell_type": "markdown",
   "metadata": {},
   "source": [
    "## Histograms"
   ]
  },
  {
   "cell_type": "markdown",
   "metadata": {},
   "source": [
    "One of the basic ways to explore data is to compare histograms of the data. As before with the describe() function, the hist() function can be pointed to specific columsn for plotting and grouping. Grouping means the program uses the values of in the column 'CellType' to separate the data into Type1 and Type2 and to to add labels to the subplots.\n",
    "\n",
    "The 'sharey' and 'sharex' parameters of the hist() function are set to true so that we can have the same axes for both the groups. "
   ]
  },
  {
   "cell_type": "code",
   "execution_count": 20,
   "metadata": {},
   "outputs": [
    {
     "data": {
      "text/plain": [
       "<matplotlib.text.Text at 0x7f2913896eb8>"
      ]
     },
     "execution_count": 20,
     "metadata": {},
     "output_type": "execute_result"
    },
    {
     "data": {
      "image/png": "[encoded data removed]",
      "text/plain": [
       "<matplotlib.figure.Figure at 0x7f2913c72c50>"
      ]
     },
     "metadata": {},
     "output_type": "display_data"
    },
    {
     "data": {
      "image/png": "[encoded data removed]",
      "text/plain": [
       "<matplotlib.figure.Figure at 0x7f29139c4a90>"
      ]
     },
     "metadata": {},
     "output_type": "display_data"
    }
   ],
   "source": [
    "# Import matplotlib's pyplot to be able to add the title to plots\n",
    "import matplotlib.pyplot as plt\n",
    "\n",
    "# Plot for area\n",
    "axes = props_df.hist(column=\"Area\", by=\"CellType\", sharey=True, sharex=True)\n",
    "plt.suptitle('Area') # Add title\n",
    "\n",
    "# Plot for Major Axis Length\n",
    "props_df.hist(column=\"MajAxisLength\", by=\"CellType\", sharey=True, sharex=True)\n",
    "plt.suptitle('Major Axis Length') # Add title"
   ]
  },
  {
   "cell_type": "markdown",
   "metadata": {},
   "source": [
    "## Box-Plots"
   ]
  },
  {
   "cell_type": "markdown",
   "metadata": {},
   "source": [
    "Box plots can be generated in a similar manner to the hist() function. "
   ]
  },
  {
   "cell_type": "code",
   "execution_count": 21,
   "metadata": {},
   "outputs": [
    {
     "data": {
      "text/plain": [
       "<matplotlib.axes._subplots.AxesSubplot at 0x7f291375e1d0>"
      ]
     },
     "execution_count": 21,
     "metadata": {},
     "output_type": "execute_result"
    },
    {
     "data": {
      "image/png": "[encoded data removed]",
      "text/plain": [
       "<matplotlib.figure.Figure at 0x7f2913dcaba8>"
      ]
     },
     "metadata": {},
     "output_type": "display_data"
    },
    {
     "data": {
      "image/png": "[encoded data removed]",
      "text/plain": [
       "<matplotlib.figure.Figure at 0x7f2913b0d908>"
      ]
     },
     "metadata": {},
     "output_type": "display_data"
    }
   ],
   "source": [
    "props_df.boxplot(column=\"Area\", by=\"CellType\")\n",
    "props_df.boxplot(column=\"MajAxisLength\", by=\"CellType\")"
   ]
  },
  {
   "cell_type": "markdown",
   "metadata": {},
   "source": [
    "# The End"
   ]
  },
  {
   "cell_type": "markdown",
   "metadata": {},
   "source": [
    "This is the conclusion of the crash course. Hopefully you have gotten enough information from this exercise to go ahead and not only apply the things learnt here to your own problems but to also explore solutions which are specific to you. \n",
    "\n",
    "Programming is a very very powerful tool and can reduce a week's worth of manual image measurements to seconds. \n",
    "\n",
    "Have fun and don't hesitate to contact me with suggestions and queries.\n",
    "\n",
    "Thanks!\n",
    "\n",
    "Aneesh"
   ]
  }
 ],
 "metadata": {
  "kernelspec": {
   "display_name": "Python 3",
   "language": "python",
   "name": "python3"
  },
  "language_info": {
   "codemirror_mode": {
    "name": "ipython",
    "version": 3
   },
   "file_extension": ".py",
   "mimetype": "text/x-python",
   "name": "python",
   "nbconvert_exporter": "python",
   "pygments_lexer": "ipython3",
   "version": "3.6.1"
  },
  "toc": {
   "colors": {
    "hover_highlight": "#DAA520",
    "navigate_num": "#000000",
    "navigate_text": "#333333",
    "running_highlight": "#FF0000",
    "selected_highlight": "#FFD700",
    "sidebar_border": "#EEEEEE",
    "wrapper_background": "#FFFFFF"
   },
   "moveMenuLeft": true,
   "nav_menu": {
    "height": "174px",
    "width": "252px"
   },
   "navigate_menu": true,
   "number_sections": true,
   "sideBar": false,
   "threshold": 4,
   "toc_cell": true,
   "toc_section_display": "block",
   "toc_window_display": true,
   "widenNotebook": false
  }
 },
 "nbformat": 4,
 "nbformat_minor": 2
}
