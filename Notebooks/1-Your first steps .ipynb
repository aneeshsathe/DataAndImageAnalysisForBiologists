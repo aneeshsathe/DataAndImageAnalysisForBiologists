{
 "cells": [
  {
   "cell_type": "markdown",
   "metadata": {
    "toc": "true"
   },
   "source": [
    "# Table of Contents\n",
    " <p><div class=\"lev1 toc-item\"><a href=\"#The-Aim:-Replace-fear-with-a-hammer\" data-toc-modified-id=\"The-Aim:-Replace-fear-with-a-hammer-1\"><span class=\"toc-item-num\">1&nbsp;&nbsp;</span>The Aim: Replace fear with a hammer</a></div><div class=\"lev1 toc-item\"><a href=\"#Say-Hi!\" data-toc-modified-id=\"Say-Hi!-2\"><span class=\"toc-item-num\">2&nbsp;&nbsp;</span>Say Hi!</a></div><div class=\"lev1 toc-item\"><a href=\"#Can-the-silicon-do-mathematics?\" data-toc-modified-id=\"Can-the-silicon-do-mathematics?-3\"><span class=\"toc-item-num\">3&nbsp;&nbsp;</span>Can the silicon do mathematics?</a></div><div class=\"lev1 toc-item\"><a href=\"#Variables\" data-toc-modified-id=\"Variables-4\"><span class=\"toc-item-num\">4&nbsp;&nbsp;</span>Variables</a></div><div class=\"lev1 toc-item\"><a href=\"#Boo!-lean\" data-toc-modified-id=\"Boo!-lean-5\"><span class=\"toc-item-num\">5&nbsp;&nbsp;</span>Boo! lean</a></div><div class=\"lev1 toc-item\"><a href=\"#A-list-of-lists-of-things-that-mean-3\" data-toc-modified-id=\"A-list-of-lists-of-things-that-mean-3-6\"><span class=\"toc-item-num\">6&nbsp;&nbsp;</span>A list of lists of things that mean 3</a></div><div class=\"lev1 toc-item\"><a href=\"#Read-my-files\" data-toc-modified-id=\"Read-my-files-7\"><span class=\"toc-item-num\">7&nbsp;&nbsp;</span>Read my files</a></div><div class=\"lev1 toc-item\"><a href=\"#Loop!-Cause-I'm-lazy-and-smart-:D\" data-toc-modified-id=\"Loop!-Cause-I'm-lazy-and-smart-:D-8\"><span class=\"toc-item-num\">8&nbsp;&nbsp;</span>Loop! Cause I'm lazy and smart :D</a></div>"
   ]
  },
  {
   "cell_type": "markdown",
   "metadata": {},
   "source": [
    "# The Aim: Replace fear with a hammer "
   ]
  },
  {
   "attachments": {},
   "cell_type": "markdown",
   "metadata": {},
   "source": [
    "Broadly this crash course will show you some quick methods to analyze your images to get data and do some rough analysis. \n",
    "\n",
    "A more subtle effect will be the **Removal of Fear** by getting you to a point where you know what's possible and you know what you don't know. **Knowing whats possible**, with even simple programs, allows one to look at everyday activities and delegate parts to a computer. **Knowing what you don't know** gives you the power of words to google for; once you know what to search for the answers are often a few clicks away. \n",
    "\n",
    "So, shall we jump?\n",
    "\n",
    "A quick outline: We will first lean some basics before going on to play with images. I've tried to keep the examples short with enough details so that you can explore more.\n",
    "\n",
    "By the end you will be able to take images of nuclei (below) and convert them into graphs\n",
    "\n",
    "![Montage](Images_for_tutorial/Montage.jpg)\n",
    "\n",
    "![HistogramArea](Images_for_tutorial/HistogramArea.png)\n",
    "\n",
    "![box_plot_area](Images_for_tutorial/box_plot_area.png)"
   ]
  },
  {
   "attachments": {},
   "cell_type": "markdown",
   "metadata": {},
   "source": [
    "\n",
    "\n"
   ]
  },
  {
   "cell_type": "markdown",
   "metadata": {
    "heading_collapsed": true
   },
   "source": [
    "# Say Hi!"
   ]
  },
  {
   "cell_type": "markdown",
   "metadata": {
    "hidden": true
   },
   "source": [
    "If your setup has gone smoothly, you should have anaconda and Fiji Installed. Now create a folder (or directory) where you would like to store all the files related to this crash-course. Download the zip file from the following link, unzip the files into the directory which you just made. \n",
    "\n",
    "https://github.com/aneeshsathe/DataAndImageAnalysisForBiologists/archive/master.zip\n",
    "\n",
    "Go ahead and explore the files, it contains the jupyter notebooks of the exercises which you will do, the images which you will analyze and some of the ideal outputs of your final program. \n",
    "\n",
    "\n",
    "Good now your environment is all set up. It's time to say \"Hi!\".\n",
    "\n",
    "In the directory you just created, create another directory, name it something like \"MyPrograms\" or something like that. You will put all the programs you will write into this directory, so give it a sensible name. \n",
    "\n",
    "Ok? Now start your terminal or command line in this directory. If you don't know how to do this, google for \"open terminal in directory\" or \"open cmd in folder\" alternatively google for \"navigate to directory from command line\". This should give you commands like \"cd /xyz/abc\"\n",
    "\n",
    "Once you are in your directory start a new jupyter notebook server by typing in \"jupyter notebook\" this should cause a browser window to open and you will see the Jupyter interface. You can explore that a bit if you want (google for notebook extensions if you would like to improve the usability). \n",
    "\n",
    "On the right side of the interface, start a new notebook by clicking \"New>Python\" this might say Python3 or Python2 depending on which anaconda you installed. \n",
    "\n",
    "A new notebook should start. This is where you will be spending most of your time. \n",
    "You should see a long grey box with ```In [ ]:``` on the left side. \n",
    "\n",
    "Click on the grey box and type ```print(\"Hello World\")``` followed by Ctrl+Enter or press the button on top that looks like the play symbol. YOu should see something like this:"
   ]
  },
  {
   "cell_type": "code",
   "execution_count": 2,
   "metadata": {
    "hidden": true
   },
   "outputs": [
    {
     "name": "stdout",
     "output_type": "stream",
     "text": [
      "Hello World!\n"
     ]
    }
   ],
   "source": [
    "print(\"Hello World!\")"
   ]
  },
  {
   "cell_type": "markdown",
   "metadata": {
    "hidden": true
   },
   "source": [
    "Congrats! you have written your first little program. So what are you doing you ask?\n",
    "well the ```print()``` part of that statement is a function which tells the computer to print something on the screen. The *something* is enclosed in the quotation marks. Try printing something else, like your name maybe?"
   ]
  },
  {
   "cell_type": "code",
   "execution_count": 4,
   "metadata": {
    "hidden": true
   },
   "outputs": [
    {
     "name": "stdout",
     "output_type": "stream",
     "text": [
      "Captain, Captain Jack Sparrow!\n"
     ]
    }
   ],
   "source": [
    "print(\"Captain, Captain Jack Sparrow!\")"
   ]
  },
  {
   "cell_type": "code",
   "execution_count": 5,
   "metadata": {
    "hidden": true
   },
   "outputs": [
    {
     "ename": "SyntaxError",
     "evalue": "EOL while scanning string literal (<ipython-input-5-cab8052285d6>, line 1)",
     "output_type": "error",
     "traceback": [
      "\u001b[0;36m  File \u001b[0;32m\"<ipython-input-5-cab8052285d6>\"\u001b[0;36m, line \u001b[0;32m1\u001b[0m\n\u001b[0;31m    print(\"Print this)\u001b[0m\n\u001b[0m                     ^\u001b[0m\n\u001b[0;31mSyntaxError\u001b[0m\u001b[0;31m:\u001b[0m EOL while scanning string literal\n"
     ]
    }
   ],
   "source": [
    "print(\"Print this)"
   ]
  },
  {
   "cell_type": "markdown",
   "metadata": {
    "hidden": true
   },
   "source": [
    "If you played around a little bit, you might have encountered some scary red text. These are called errors, they are normally caused by the computer not understanding what you want it to do. For example I have created an error above by not typing the second quotation mark. This throws out a `SyntaxError` . *Syntax* is just a fancy way of saying the agreed upon rules of a language. The computer expects all quotes and brackets to be completed before running the code. The little `^` symbol tried to tell us where the problem might be. Can you fix the problem?"
   ]
  },
  {
   "cell_type": "markdown",
   "metadata": {
    "heading_collapsed": true
   },
   "source": [
    "# Can the silicon do mathematics?"
   ]
  },
  {
   "cell_type": "markdown",
   "metadata": {
    "hidden": true
   },
   "source": [
    "Now that you've got a little feel for the ability of the computer to do your bidding let's step things up a tiny bit. Lets make the computer do Maths, afterall, it *is* a computer! Make it do `2+2`. Same as before, type `2+2` followed by Ctrl+Enter or the play button on top. "
   ]
  },
  {
   "cell_type": "code",
   "execution_count": 6,
   "metadata": {
    "hidden": true
   },
   "outputs": [
    {
     "data": {
      "text/plain": [
       "4"
      ]
     },
     "execution_count": 6,
     "metadata": {},
     "output_type": "execute_result"
    }
   ],
   "source": [
    "2+2"
   ]
  },
  {
   "cell_type": "markdown",
   "metadata": {
    "hidden": true
   },
   "source": [
    "It seems to do that ok... can you make it do other operations like divide? multiply?"
   ]
  },
  {
   "cell_type": "markdown",
   "metadata": {
    "hidden": true
   },
   "source": [
    "This is all well and good but one can't be expected to always type out numbers that you want to do operations on. There is a way to make the computer store numbers you want (or really store anything you want) and make it do operations on that.  "
   ]
  },
  {
   "cell_type": "markdown",
   "metadata": {
    "heading_collapsed": true
   },
   "source": [
    "# Variables"
   ]
  },
  {
   "cell_type": "markdown",
   "metadata": {
    "hidden": true
   },
   "source": [
    "Variables are basically bags for your items. There isn't much of a point in trying to explain variables with words let's just play with them!"
   ]
  },
  {
   "cell_type": "code",
   "execution_count": null,
   "metadata": {
    "collapsed": true,
    "hidden": true
   },
   "outputs": [],
   "source": [
    "a = 3\n",
    "b = 4\n",
    "a+b"
   ]
  },
  {
   "cell_type": "markdown",
   "metadata": {
    "collapsed": true,
    "hidden": true
   },
   "source": [
    "What would you expect the result of the above cell to be? Can you make the computer do other operations? Can you assign more than 2 variables and do operations with them?\n",
    "\n",
    "Here's a tricky one:"
   ]
  },
  {
   "cell_type": "code",
   "execution_count": 3,
   "metadata": {
    "hidden": true
   },
   "outputs": [
    {
     "data": {
      "text/plain": [
       "'hellohellohellohello'"
      ]
     },
     "execution_count": 3,
     "metadata": {},
     "output_type": "execute_result"
    }
   ],
   "source": [
    "a = 'hello'\n",
    "b = 4\n",
    "a*b"
   ]
  },
  {
   "cell_type": "markdown",
   "metadata": {
    "collapsed": true,
    "hidden": true
   },
   "source": [
    "As you can see, python interprets `a*b` as \"repeat `a` `b` number of times. What happens if you try to add a and b? Can you imagine why?"
   ]
  },
  {
   "cell_type": "markdown",
   "metadata": {
    "collapsed": true,
    "hidden": true
   },
   "source": [
    "As variables go, `a` and `b` are terrible names for variables, because if you read them tomorrow you will forget what they were for. So as a rule you should always give sensible names where possible. \n",
    "\n",
    "Suppose we have the following problem: The average squirrel weighs 0.5 kg whats the weight of a thousand squirrels?\n",
    "\n",
    "We should assign sensible names for the calculations as below:"
   ]
  },
  {
   "cell_type": "code",
   "execution_count": 5,
   "metadata": {
    "hidden": true
   },
   "outputs": [
    {
     "name": "stdout",
     "output_type": "stream",
     "text": [
      "500.0\n"
     ]
    }
   ],
   "source": [
    "# Average Weight of Squirrels \n",
    "avg_squirl_wt = 0.5\n",
    "# Number of Squirrels\n",
    "no_of_squirl = 1000\n",
    "# Calculate and print total weight\n",
    "tot_weight = avg_squirl_wt*no_of_squirl\n",
    "print(tot_weight)"
   ]
  },
  {
   "cell_type": "markdown",
   "metadata": {
    "hidden": true
   },
   "source": [
    "If you noticed above we have normal English mixed in with the code. Any letters following the `#` symbol is interpreted by Python as a **comment**. Comments are meant for human readers of the code and are completely ignored by the computer. Use comments generously, your future self will love you for leaving helpful notes along with your code :-)"
   ]
  },
  {
   "cell_type": "markdown",
   "metadata": {
    "hidden": true
   },
   "source": [
    "Continuing the problem above.. suppose you had 3 different kinds of squirrels with three different average weights: TypeA: 0.3 kg, TypeB:0.1 kg and TypeC:50 kg. The three types are also present in 3 differnt numbers: TypeA: 10, TypeB: 20 and TypeC: 1 How would you find the total weight of a thousand squirrels of the different types?"
   ]
  },
  {
   "cell_type": "code",
   "execution_count": 9,
   "metadata": {
    "collapsed": true,
    "hidden": true
   },
   "outputs": [],
   "source": [
    "# write your answer"
   ]
  },
  {
   "cell_type": "markdown",
   "metadata": {
    "heading_collapsed": true
   },
   "source": [
    "# Boo! lean"
   ]
  },
  {
   "cell_type": "markdown",
   "metadata": {
    "hidden": true
   },
   "source": [
    "The computer is also able to make comparisons and tell you if something is bigger, smaller, same. These type of operations are called boolean operations. Lets try out some"
   ]
  },
  {
   "cell_type": "code",
   "execution_count": 11,
   "metadata": {
    "hidden": true
   },
   "outputs": [
    {
     "name": "stdout",
     "output_type": "stream",
     "text": [
      "False\n",
      "True\n",
      "False\n",
      "True\n"
     ]
    }
   ],
   "source": [
    "big_number = 100\n",
    "small_number = 2\n",
    "print(big_number<small_number)\n",
    "print(big_number>small_number)\n",
    "print(big_number==small_number)\n",
    "print(big_number>=small_number)"
   ]
  },
  {
   "cell_type": "markdown",
   "metadata": {
    "hidden": true
   },
   "source": [
    "If you noticed above we use the `==` symbol to ask the computer if the numbers are equal instead of the `=` symbol. This is because the `=` symbol is used for assigning variables their values. Can you guess what the `>=` symbol measured?"
   ]
  },
  {
   "cell_type": "markdown",
   "metadata": {
    "heading_collapsed": true
   },
   "source": [
    "# A list of lists of things that mean 3"
   ]
  },
  {
   "cell_type": "markdown",
   "metadata": {
    "hidden": true
   },
   "source": [
    "What if you could store more than one thing in a variable? What if you could store more than one type of thing in a variable? Well you can! Python has a type of variable called a list which can do that. There are a few python data types which you should read about, broadly you have numeric, and strings, i.e. numbers and letters. But there can also be different types of numbers and different kinds of strings. \n",
    "Let's see how strings work:"
   ]
  },
  {
   "cell_type": "code",
   "execution_count": 16,
   "metadata": {
    "hidden": true
   },
   "outputs": [
    {
     "data": {
      "text/plain": [
       "[[3, 3, 3], ['three', 'teen', 'tres', 'san'], [3, 3, 3]]"
      ]
     },
     "execution_count": 16,
     "metadata": {},
     "output_type": "execute_result"
    }
   ],
   "source": [
    "# assign the value 3 to 3 variables\n",
    "goat = guitar = eskimo = 3\n",
    "# declare and print list\n",
    "my_name_is_three = [[3,3,3], ['three', 'teen', 'tres', 'san'], [goat, guitar, eskimo ]]\n",
    "my_name_is_three"
   ]
  },
  {
   "cell_type": "markdown",
   "metadata": {
    "hidden": true
   },
   "source": [
    "   The `my_name_is_three` list above is actually a list of lists... wait what??\n",
    "   You read that right.. that list actually contains other lists and can also be constructed like this: "
   ]
  },
  {
   "cell_type": "code",
   "execution_count": null,
   "metadata": {
    "collapsed": true,
    "hidden": true
   },
   "outputs": [],
   "source": [
    "three_numbers = [3,3,3]\n",
    "three_langs =  ['three', 'teen', 'tres', 'san']\n",
    "goat = guitar = eskimo = 3\n",
    "three_variables = [goat, guitar, eskimo ]\n",
    "my_name_is_three = [three_numbers, three_langs, three_variables]"
   ]
  },
  {
   "cell_type": "markdown",
   "metadata": {
    "hidden": true
   },
   "source": [
    "What if after storing, you wanted to only look at the first list in the list of lists? This can be done using `indexing`. Indexing means telling the computer to pull out a particular value at the coordinates we specify. Python uses 0-indexing. 0-indexing starts counting from 0 instead of 1. So to access the first element you have to type:"
   ]
  },
  {
   "cell_type": "code",
   "execution_count": 17,
   "metadata": {
    "hidden": true
   },
   "outputs": [
    {
     "data": {
      "text/plain": [
       "[3, 3, 3]"
      ]
     },
     "execution_count": 17,
     "metadata": {},
     "output_type": "execute_result"
    }
   ],
   "source": [
    "my_name_is_three[0]"
   ]
  },
  {
   "cell_type": "markdown",
   "metadata": {
    "hidden": true
   },
   "source": [
    "We will explore this property of lists as we go on. For now lets actually jump into accessing our images!"
   ]
  },
  {
   "cell_type": "markdown",
   "metadata": {},
   "source": [
    "# Read my files"
   ]
  },
  {
   "cell_type": "markdown",
   "metadata": {},
   "source": [
    "If you explore the files you unzipped in the beginning, you will notice that the `/Images/Source/` path contains two folders: `Type1` and `Type2` each of these directories contains images taken from two different types of cells that we will use for our analysis. \n",
    "\n",
    "We know where these files are.. but how do we tell the computer? \n",
    "File paths are the addresses the computer uses to track where different files are stored on the hard-disk. So all that we have to do is tell the computer the path of every file. \n",
    "For example this is where the files are stored on my computer:"
   ]
  },
  {
   "cell_type": "code",
   "execution_count": null,
   "metadata": {
    "collapsed": true
   },
   "outputs": [],
   "source": [
    "path1 = '/home/aneesh/Images/Source/Type1/Type1_1.tif'\n",
    "path2= '/home/aneesh/Images/Source/Type1/Type1_2.tif'\n",
    "path3= '/home/aneesh/Images/Source/Type1/Type1_3tif'"
   ]
  },
  {
   "cell_type": "markdown",
   "metadata": {},
   "source": [
    "Um... but doesn't that sound like a LOT of work. It is and luckily for us we don't have to this! all that we have to do is to tell the computer where the folder of our images is. This can be stored in a string variable, which I like to call `root_root` but you can call it whatever you want (as long as you can make sense of it later). Replace the string below with the path where your Images are stored:"
   ]
  },
  {
   "cell_type": "code",
   "execution_count": 30,
   "metadata": {
    "collapsed": true
   },
   "outputs": [],
   "source": [
    "root_root = '/home/aneesh/Images/Source/'"
   ]
  },
  {
   "cell_type": "markdown",
   "metadata": {},
   "source": [
    "To make Python automatically read our image names we have to import a *package* called `os`. A package is a set of mini programs that do small jobs. Each of these mini programs is called a function. Just like the `print()` function which we used we will use a few other functions to help us get the list of files. \n",
    "\n",
    "\n",
    "Until we \"import\" a package Python doesn't know that a set of functions exists or that they should be used. To import a package we use the format \n",
    "\n",
    "`import packageXYZ`\n",
    "\n",
    "For our first example we will import the os package and use the the `listdir()` function to get a list of the items in the `root_root` directory. \n",
    "\n",
    "We can also import only `listdir()` by typing: `from os import listdir()` but we will need a few other functions that are in os so we will import all of os so that we have access to the other functions using the `os.abc` notation. "
   ]
  },
  {
   "cell_type": "code",
   "execution_count": 29,
   "metadata": {},
   "outputs": [
    {
     "data": {
      "text/plain": [
       "['Type1', 'Type2']"
      ]
     },
     "execution_count": 29,
     "metadata": {},
     "output_type": "execute_result"
    }
   ],
   "source": [
    "import os\n",
    "dir_of_root = os.listdir(root_root)\n",
    "dir_of_root"
   ]
  },
  {
   "cell_type": "markdown",
   "metadata": {},
   "source": [
    "Great! now we know that `root_root` has two directories where our images are stored, but thats not the full path to the images is it? Lets see how we can get that for images in the `Type1` directory.\n",
    "\n",
    "**Note** If you got an error, make sure that your 'root_root' variable has a forward slash at the end. This signifies it as a directory. "
   ]
  },
  {
   "cell_type": "code",
   "execution_count": 33,
   "metadata": {},
   "outputs": [
    {
     "data": {
      "text/plain": [
       "['Type1_11.tif',\n",
       " 'Type1_13.tif',\n",
       " 'Type1_1.tif',\n",
       " 'Type1_19.tif',\n",
       " 'Type1_16.tif',\n",
       " 'Type1_9.tif',\n",
       " 'Type1_6.tif',\n",
       " 'Type1_14.tif',\n",
       " 'Type1_7.tif',\n",
       " 'Type1_3.tif',\n",
       " 'Type1_10.tif',\n",
       " 'Type1_4.tif',\n",
       " 'Type1_12.tif',\n",
       " 'Type1_8.tif',\n",
       " 'Type1_5.tif',\n",
       " 'Type1_18.tif',\n",
       " 'Type1_17.tif',\n",
       " 'Type1_20.tif',\n",
       " 'Type1_15.tif',\n",
       " 'Type1_2.tif']"
      ]
     },
     "execution_count": 33,
     "metadata": {},
     "output_type": "execute_result"
    }
   ],
   "source": [
    "img_file_list = os.listdir(root_root+dir_of_root[0])\n",
    "img_file_list"
   ]
  },
  {
   "cell_type": "markdown",
   "metadata": {},
   "source": [
    "Let's break down what happened there. To do that we must go to the innermost part of the statement, the part where we are using the plus sign. We are adding the string at the first position in `dir_of_root` to the string in `root_root`. If you don't understand how that works, try doing it:"
   ]
  },
  {
   "cell_type": "code",
   "execution_count": 31,
   "metadata": {},
   "outputs": [
    {
     "data": {
      "text/plain": [
       "'/home/aneesh/Images/Source/Type1'"
      ]
     },
     "execution_count": 31,
     "metadata": {},
     "output_type": "execute_result"
    }
   ],
   "source": [
    "root_root+dir_of_root[0]"
   ]
  },
  {
   "cell_type": "markdown",
   "metadata": {},
   "source": [
    "We then passed that joined string to the `os.listdir()` function which gave us a list of the images in the Type1 directory. The directory names can also be joint using the `os.path.join()` function. This can be useful when you are dealing with many variables contributing different sources like this:"
   ]
  },
  {
   "cell_type": "code",
   "execution_count": 34,
   "metadata": {},
   "outputs": [
    {
     "data": {
      "text/plain": [
       "'/home/aneesh/Images/Source/Type1/Type1_11.tif'"
      ]
     },
     "execution_count": 34,
     "metadata": {},
     "output_type": "execute_result"
    }
   ],
   "source": [
    "full_path = os.path.join(root_root,dir_of_root[0], img_file_list[0])"
   ]
  },
  {
   "cell_type": "markdown",
   "metadata": {},
   "source": [
    "Ok, now we have the path to one image file.. what about the others? Our lazy butts can't seriously be expected to change the 0 to a 1 then to a 2 etc just to access every file... Again we don't have to! We can use LOOPS!\n",
    "\n",
    "**Sidenote:** you might have noticed above that the filenames don't seem to be in the right order. This seems to be a property of the way python assigns priority to file reading sequence. If you'd like to know more or if you need the files to be in order you should google how to do that. "
   ]
  },
  {
   "cell_type": "markdown",
   "metadata": {},
   "source": [
    "# Loop! Cause I'm lazy and smart :D"
   ]
  },
  {
   "cell_type": "markdown",
   "metadata": {
    "collapsed": true
   },
   "source": [
    "Loops are what you apply once you have figured out how to do something once, but need to do it again and again by making some minor changes. In our case we need to change the file name every time. This idea of again-and-again is packaged into the word *iterate*. So when someone says \"iterate over X\" all that it means is that you apply the same things that are in X. We will be iterating over the file names stored in `img_file_list`. \n",
    "\n",
    "\n",
    "In case you come from other languages, you can't normally iterate over objects in a container (like a list) however in python you can. Let's get our file list again:"
   ]
  },
  {
   "cell_type": "code",
   "execution_count": 10,
   "metadata": {
    "collapsed": true
   },
   "outputs": [],
   "source": [
    "import os\n",
    "root_root = '/home/aneesh/Images/Source/'\n",
    "dir_of_root = os.listdir(root_root)\n",
    "img_file_list = os.listdir(root_root+dir_of_root[0])\n"
   ]
  },
  {
   "cell_type": "markdown",
   "metadata": {
    "collapsed": true
   },
   "source": [
    "The variable `img_file_list` contains the names of all the files in the Type1 directory. For loops are used to iterate over items. The term *for* comes from the understanding: \"for x items in y do z\". This is also how we write for loops in python:"
   ]
  },
  {
   "cell_type": "code",
   "execution_count": 11,
   "metadata": {},
   "outputs": [
    {
     "name": "stdout",
     "output_type": "stream",
     "text": [
      "Type1_15.tif\n",
      "Type1_4.tif\n",
      "Type1_1.tif\n",
      "Type1_9.tif\n",
      "Type1_18.tif\n",
      "Type1_14.tif\n",
      "Type1_5.tif\n",
      "Type1_11.tif\n",
      "Type1_16.tif\n",
      "Type1_2.tif\n",
      "Type1_10.tif\n",
      "Type1_12.tif\n",
      "Type1_7.tif\n",
      "Type1_17.tif\n",
      "Type1_8.tif\n",
      "Type1_13.tif\n",
      "Type1_6.tif\n",
      "Type1_19.tif\n",
      "Type1_20.tif\n",
      "Type1_3.tif\n"
     ]
    }
   ],
   "source": [
    "for file_name in img_file_list:\n",
    "    print(file_name)"
   ]
  },
  {
   "cell_type": "markdown",
   "metadata": {},
   "source": [
    "As you can see above what we are doing is printing every filename in the `img_file_list` variable. There is another function called `enumerate()` which counts the number of items in your object and returns both the count of the objects and the objects themselves. We use it below to print both the number of the file and the file name itself."
   ]
  },
  {
   "cell_type": "code",
   "execution_count": 8,
   "metadata": {},
   "outputs": [
    {
     "name": "stdout",
     "output_type": "stream",
     "text": [
      "0\n",
      "Type1_15.tif\n",
      "1\n",
      "Type1_4.tif\n",
      "2\n",
      "Type1_1.tif\n",
      "3\n",
      "Type1_9.tif\n",
      "4\n",
      "Type1_18.tif\n",
      "5\n",
      "Type1_14.tif\n",
      "6\n",
      "Type1_5.tif\n",
      "7\n",
      "Type1_11.tif\n",
      "8\n",
      "Type1_16.tif\n",
      "9\n",
      "Type1_2.tif\n",
      "10\n",
      "Type1_10.tif\n",
      "11\n",
      "Type1_12.tif\n",
      "12\n",
      "Type1_7.tif\n",
      "13\n",
      "Type1_17.tif\n",
      "14\n",
      "Type1_8.tif\n",
      "15\n",
      "Type1_13.tif\n",
      "16\n",
      "Type1_6.tif\n",
      "17\n",
      "Type1_19.tif\n",
      "18\n",
      "Type1_20.tif\n",
      "19\n",
      "Type1_3.tif\n"
     ]
    }
   ],
   "source": [
    "for file_num, file_name in enumerate(img_file_list):\n",
    "    print(file_num)\n",
    "    print(file_name)"
   ]
  },
  {
   "cell_type": "markdown",
   "metadata": {},
   "source": [
    "Now we have all the filenames being accessed, but how do we make that into a full file path? Remember `the os.path.join()` function? That's going to help a bit"
   ]
  },
  {
   "cell_type": "code",
   "execution_count": 12,
   "metadata": {
    "collapsed": true
   },
   "outputs": [
    {
     "name": "stdout",
     "output_type": "stream",
     "text": [
      "/home/aneesh/Images/Source/Type1/Type1_15.tif\n",
      "/home/aneesh/Images/Source/Type1/Type1_4.tif\n",
      "/home/aneesh/Images/Source/Type1/Type1_1.tif\n",
      "/home/aneesh/Images/Source/Type1/Type1_9.tif\n",
      "/home/aneesh/Images/Source/Type1/Type1_18.tif\n",
      "/home/aneesh/Images/Source/Type1/Type1_14.tif\n",
      "/home/aneesh/Images/Source/Type1/Type1_5.tif\n",
      "/home/aneesh/Images/Source/Type1/Type1_11.tif\n",
      "/home/aneesh/Images/Source/Type1/Type1_16.tif\n",
      "/home/aneesh/Images/Source/Type1/Type1_2.tif\n",
      "/home/aneesh/Images/Source/Type1/Type1_10.tif\n",
      "/home/aneesh/Images/Source/Type1/Type1_12.tif\n",
      "/home/aneesh/Images/Source/Type1/Type1_7.tif\n",
      "/home/aneesh/Images/Source/Type1/Type1_17.tif\n",
      "/home/aneesh/Images/Source/Type1/Type1_8.tif\n",
      "/home/aneesh/Images/Source/Type1/Type1_13.tif\n",
      "/home/aneesh/Images/Source/Type1/Type1_6.tif\n",
      "/home/aneesh/Images/Source/Type1/Type1_19.tif\n",
      "/home/aneesh/Images/Source/Type1/Type1_20.tif\n",
      "/home/aneesh/Images/Source/Type1/Type1_3.tif\n"
     ]
    }
   ],
   "source": [
    "for file_name in img_file_list:\n",
    "    full_path = os.path.join(root_root,dir_of_root[0], file_name)\n",
    "    print(full_path)"
   ]
  },
  {
   "cell_type": "markdown",
   "metadata": {},
   "source": [
    "Voila! We have all the filepaths without having to type them out... BUT we have all the file paths in the Type1 directory... What about the Type2 directory? Remember how the `dir_of_root` variable contains two values. Do you think we can loop over those too? \n",
    "\n",
    "Why would I bring it up if we couldn't we can this is called loop nesting. "
   ]
  },
  {
   "cell_type": "code",
   "execution_count": 15,
   "metadata": {
    "collapsed": true
   },
   "outputs": [
    {
     "name": "stdout",
     "output_type": "stream",
     "text": [
      "/home/aneesh/Images/Source/Type1/Type1_15.tif\n",
      "/home/aneesh/Images/Source/Type1/Type1_4.tif\n",
      "/home/aneesh/Images/Source/Type1/Type1_1.tif\n",
      "/home/aneesh/Images/Source/Type1/Type1_9.tif\n",
      "/home/aneesh/Images/Source/Type1/Type1_18.tif\n",
      "/home/aneesh/Images/Source/Type1/Type1_14.tif\n",
      "/home/aneesh/Images/Source/Type1/Type1_5.tif\n",
      "/home/aneesh/Images/Source/Type1/Type1_11.tif\n",
      "/home/aneesh/Images/Source/Type1/Type1_16.tif\n",
      "/home/aneesh/Images/Source/Type1/Type1_2.tif\n",
      "/home/aneesh/Images/Source/Type1/Type1_10.tif\n",
      "/home/aneesh/Images/Source/Type1/Type1_12.tif\n",
      "/home/aneesh/Images/Source/Type1/Type1_7.tif\n",
      "/home/aneesh/Images/Source/Type1/Type1_17.tif\n",
      "/home/aneesh/Images/Source/Type1/Type1_8.tif\n",
      "/home/aneesh/Images/Source/Type1/Type1_13.tif\n",
      "/home/aneesh/Images/Source/Type1/Type1_6.tif\n",
      "/home/aneesh/Images/Source/Type1/Type1_19.tif\n",
      "/home/aneesh/Images/Source/Type1/Type1_20.tif\n",
      "/home/aneesh/Images/Source/Type1/Type1_3.tif\n",
      "/home/aneesh/Images/Source/Type2/Type2_5.tif\n",
      "/home/aneesh/Images/Source/Type2/Type2_32.tif\n",
      "/home/aneesh/Images/Source/Type2/Type2_3.tif\n",
      "/home/aneesh/Images/Source/Type2/Type2_6.tif\n",
      "/home/aneesh/Images/Source/Type2/Type2_13.tif\n",
      "/home/aneesh/Images/Source/Type2/Type2_4.tif\n",
      "/home/aneesh/Images/Source/Type2/Type2_9.tif\n",
      "/home/aneesh/Images/Source/Type2/Type2_22.tif\n",
      "/home/aneesh/Images/Source/Type2/Type2_15.tif\n",
      "/home/aneesh/Images/Source/Type2/Type2_16.tif\n",
      "/home/aneesh/Images/Source/Type2/Type2_12.tif\n",
      "/home/aneesh/Images/Source/Type2/Type2_18.tif\n",
      "/home/aneesh/Images/Source/Type2/Type2_11.tif\n",
      "/home/aneesh/Images/Source/Type2/Type2_14.tif\n",
      "/home/aneesh/Images/Source/Type2/Type2_26.tif\n",
      "/home/aneesh/Images/Source/Type2/Type2_19.tif\n",
      "/home/aneesh/Images/Source/Type2/Type2_24.tif\n",
      "/home/aneesh/Images/Source/Type2/Type2_25.tif\n",
      "/home/aneesh/Images/Source/Type2/Type2_8.tif\n",
      "/home/aneesh/Images/Source/Type2/Type2_30.tif\n",
      "/home/aneesh/Images/Source/Type2/Type2_31.tif\n",
      "/home/aneesh/Images/Source/Type2/Type2_7.tif\n",
      "/home/aneesh/Images/Source/Type2/Type2_21.tif\n",
      "/home/aneesh/Images/Source/Type2/Type2_28.tif\n",
      "/home/aneesh/Images/Source/Type2/Type2_20.tif\n",
      "/home/aneesh/Images/Source/Type2/Type2_17.tif\n",
      "/home/aneesh/Images/Source/Type2/Type2_2.tif\n",
      "/home/aneesh/Images/Source/Type2/Type2_1.tif\n",
      "/home/aneesh/Images/Source/Type2/Type2_23.tif\n",
      "/home/aneesh/Images/Source/Type2/Type2_29.tif\n",
      "/home/aneesh/Images/Source/Type2/Type2_10.tif\n",
      "/home/aneesh/Images/Source/Type2/Type2_27.tif\n"
     ]
    }
   ],
   "source": [
    "for dor in dir_of_root:\n",
    "    img_file_list = os.listdir(root_root+dor)\n",
    "    for file_name in img_file_list:\n",
    "        full_path = os.path.join(root_root,dor, file_name)\n",
    "        print(full_path)"
   ]
  },
  {
   "cell_type": "markdown",
   "metadata": {},
   "source": [
    "You will notice above that we added an extra line where we have to re-assign the value of `img_file_list` on every iteration over `dir_of_root` because we need to get the contents of different directories. \n",
    "\n",
    "While the above method works well for our purposes, it is a little lengthy to type, there is *again* an easier solution. This comes in the form of the funtion `glob()`. Glob goes through your directory and directly finds all the files matching a particular pattern. In our case all our files end in the '.tif' extension. So, we can use `*.tif` as the pattern. Here the `*` is what is called as a wild-card. Python interprets it as \"anything\" and '\\*.tif' is interpreted as \"anything that ends in .tif\"\n",
    "\n",
    "Lets try out glob on the Type1 folder below, first we need to import the glob package."
   ]
  },
  {
   "cell_type": "code",
   "execution_count": 18,
   "metadata": {},
   "outputs": [
    {
     "data": {
      "text/plain": [
       "['/home/aneesh/Images/Source/Type1/Type1_15.tif',\n",
       " '/home/aneesh/Images/Source/Type1/Type1_4.tif',\n",
       " '/home/aneesh/Images/Source/Type1/Type1_1.tif',\n",
       " '/home/aneesh/Images/Source/Type1/Type1_9.tif',\n",
       " '/home/aneesh/Images/Source/Type1/Type1_18.tif',\n",
       " '/home/aneesh/Images/Source/Type1/Type1_14.tif',\n",
       " '/home/aneesh/Images/Source/Type1/Type1_5.tif',\n",
       " '/home/aneesh/Images/Source/Type1/Type1_11.tif',\n",
       " '/home/aneesh/Images/Source/Type1/Type1_16.tif',\n",
       " '/home/aneesh/Images/Source/Type1/Type1_2.tif',\n",
       " '/home/aneesh/Images/Source/Type1/Type1_10.tif',\n",
       " '/home/aneesh/Images/Source/Type1/Type1_12.tif',\n",
       " '/home/aneesh/Images/Source/Type1/Type1_7.tif',\n",
       " '/home/aneesh/Images/Source/Type1/Type1_17.tif',\n",
       " '/home/aneesh/Images/Source/Type1/Type1_8.tif',\n",
       " '/home/aneesh/Images/Source/Type1/Type1_13.tif',\n",
       " '/home/aneesh/Images/Source/Type1/Type1_6.tif',\n",
       " '/home/aneesh/Images/Source/Type1/Type1_19.tif',\n",
       " '/home/aneesh/Images/Source/Type1/Type1_20.tif',\n",
       " '/home/aneesh/Images/Source/Type1/Type1_3.tif']"
      ]
     },
     "execution_count": 18,
     "metadata": {},
     "output_type": "execute_result"
    }
   ],
   "source": [
    "import glob\n",
    "glob.glob( os.path.join(root_root,dir_of_root[0], '*.tif'))"
   ]
  },
  {
   "cell_type": "markdown",
   "metadata": {},
   "source": [
    "So now we can replace the inner loop of with glob:"
   ]
  },
  {
   "cell_type": "code",
   "execution_count": 19,
   "metadata": {},
   "outputs": [
    {
     "name": "stdout",
     "output_type": "stream",
     "text": [
      "['/home/aneesh/Images/Source/Type1/Type1_15.tif', '/home/aneesh/Images/Source/Type1/Type1_4.tif', '/home/aneesh/Images/Source/Type1/Type1_1.tif', '/home/aneesh/Images/Source/Type1/Type1_9.tif', '/home/aneesh/Images/Source/Type1/Type1_18.tif', '/home/aneesh/Images/Source/Type1/Type1_14.tif', '/home/aneesh/Images/Source/Type1/Type1_5.tif', '/home/aneesh/Images/Source/Type1/Type1_11.tif', '/home/aneesh/Images/Source/Type1/Type1_16.tif', '/home/aneesh/Images/Source/Type1/Type1_2.tif', '/home/aneesh/Images/Source/Type1/Type1_10.tif', '/home/aneesh/Images/Source/Type1/Type1_12.tif', '/home/aneesh/Images/Source/Type1/Type1_7.tif', '/home/aneesh/Images/Source/Type1/Type1_17.tif', '/home/aneesh/Images/Source/Type1/Type1_8.tif', '/home/aneesh/Images/Source/Type1/Type1_13.tif', '/home/aneesh/Images/Source/Type1/Type1_6.tif', '/home/aneesh/Images/Source/Type1/Type1_19.tif', '/home/aneesh/Images/Source/Type1/Type1_20.tif', '/home/aneesh/Images/Source/Type1/Type1_3.tif']\n",
      "['/home/aneesh/Images/Source/Type2/Type2_5.tif', '/home/aneesh/Images/Source/Type2/Type2_32.tif', '/home/aneesh/Images/Source/Type2/Type2_3.tif', '/home/aneesh/Images/Source/Type2/Type2_6.tif', '/home/aneesh/Images/Source/Type2/Type2_13.tif', '/home/aneesh/Images/Source/Type2/Type2_4.tif', '/home/aneesh/Images/Source/Type2/Type2_9.tif', '/home/aneesh/Images/Source/Type2/Type2_22.tif', '/home/aneesh/Images/Source/Type2/Type2_15.tif', '/home/aneesh/Images/Source/Type2/Type2_16.tif', '/home/aneesh/Images/Source/Type2/Type2_12.tif', '/home/aneesh/Images/Source/Type2/Type2_18.tif', '/home/aneesh/Images/Source/Type2/Type2_11.tif', '/home/aneesh/Images/Source/Type2/Type2_14.tif', '/home/aneesh/Images/Source/Type2/Type2_26.tif', '/home/aneesh/Images/Source/Type2/Type2_19.tif', '/home/aneesh/Images/Source/Type2/Type2_24.tif', '/home/aneesh/Images/Source/Type2/Type2_25.tif', '/home/aneesh/Images/Source/Type2/Type2_8.tif', '/home/aneesh/Images/Source/Type2/Type2_30.tif', '/home/aneesh/Images/Source/Type2/Type2_31.tif', '/home/aneesh/Images/Source/Type2/Type2_7.tif', '/home/aneesh/Images/Source/Type2/Type2_21.tif', '/home/aneesh/Images/Source/Type2/Type2_28.tif', '/home/aneesh/Images/Source/Type2/Type2_20.tif', '/home/aneesh/Images/Source/Type2/Type2_17.tif', '/home/aneesh/Images/Source/Type2/Type2_2.tif', '/home/aneesh/Images/Source/Type2/Type2_1.tif', '/home/aneesh/Images/Source/Type2/Type2_23.tif', '/home/aneesh/Images/Source/Type2/Type2_29.tif', '/home/aneesh/Images/Source/Type2/Type2_10.tif', '/home/aneesh/Images/Source/Type2/Type2_27.tif']\n"
     ]
    }
   ],
   "source": [
    "for dor in dir_of_root:\n",
    "    img_file_list = os.listdir(root_root+dor)\n",
    "    full_paths = glob.glob(os.path.join(root_root,dor, '*.tif'))\n",
    "    print(full_paths)"
   ]
  },
  {
   "cell_type": "markdown",
   "metadata": {},
   "source": [
    "The print above looks a little different, this is because two lists which are the output of the function glob are being printed. However, when it comes to loops there is another little trick that can make our code even shorter. This is called a **list comprehension**. A list comprehension is basically a for loop compressed into one line. It has some limitations compared to a for loop but its the most convinient way to iterate over loops. Can you figure out how we use the list comprehension to generate out list of lists of full paths to the images in the Type1 and Type2 directories?"
   ]
  },
  {
   "cell_type": "code",
   "execution_count": 20,
   "metadata": {
    "scrolled": true
   },
   "outputs": [
    {
     "data": {
      "text/plain": [
       "[['/home/aneesh/Images/Source/Type1/Type1_15.tif',\n",
       "  '/home/aneesh/Images/Source/Type1/Type1_4.tif',\n",
       "  '/home/aneesh/Images/Source/Type1/Type1_1.tif',\n",
       "  '/home/aneesh/Images/Source/Type1/Type1_9.tif',\n",
       "  '/home/aneesh/Images/Source/Type1/Type1_18.tif',\n",
       "  '/home/aneesh/Images/Source/Type1/Type1_14.tif',\n",
       "  '/home/aneesh/Images/Source/Type1/Type1_5.tif',\n",
       "  '/home/aneesh/Images/Source/Type1/Type1_11.tif',\n",
       "  '/home/aneesh/Images/Source/Type1/Type1_16.tif',\n",
       "  '/home/aneesh/Images/Source/Type1/Type1_2.tif',\n",
       "  '/home/aneesh/Images/Source/Type1/Type1_10.tif',\n",
       "  '/home/aneesh/Images/Source/Type1/Type1_12.tif',\n",
       "  '/home/aneesh/Images/Source/Type1/Type1_7.tif',\n",
       "  '/home/aneesh/Images/Source/Type1/Type1_17.tif',\n",
       "  '/home/aneesh/Images/Source/Type1/Type1_8.tif',\n",
       "  '/home/aneesh/Images/Source/Type1/Type1_13.tif',\n",
       "  '/home/aneesh/Images/Source/Type1/Type1_6.tif',\n",
       "  '/home/aneesh/Images/Source/Type1/Type1_19.tif',\n",
       "  '/home/aneesh/Images/Source/Type1/Type1_20.tif',\n",
       "  '/home/aneesh/Images/Source/Type1/Type1_3.tif'],\n",
       " ['/home/aneesh/Images/Source/Type2/Type2_5.tif',\n",
       "  '/home/aneesh/Images/Source/Type2/Type2_32.tif',\n",
       "  '/home/aneesh/Images/Source/Type2/Type2_3.tif',\n",
       "  '/home/aneesh/Images/Source/Type2/Type2_6.tif',\n",
       "  '/home/aneesh/Images/Source/Type2/Type2_13.tif',\n",
       "  '/home/aneesh/Images/Source/Type2/Type2_4.tif',\n",
       "  '/home/aneesh/Images/Source/Type2/Type2_9.tif',\n",
       "  '/home/aneesh/Images/Source/Type2/Type2_22.tif',\n",
       "  '/home/aneesh/Images/Source/Type2/Type2_15.tif',\n",
       "  '/home/aneesh/Images/Source/Type2/Type2_16.tif',\n",
       "  '/home/aneesh/Images/Source/Type2/Type2_12.tif',\n",
       "  '/home/aneesh/Images/Source/Type2/Type2_18.tif',\n",
       "  '/home/aneesh/Images/Source/Type2/Type2_11.tif',\n",
       "  '/home/aneesh/Images/Source/Type2/Type2_14.tif',\n",
       "  '/home/aneesh/Images/Source/Type2/Type2_26.tif',\n",
       "  '/home/aneesh/Images/Source/Type2/Type2_19.tif',\n",
       "  '/home/aneesh/Images/Source/Type2/Type2_24.tif',\n",
       "  '/home/aneesh/Images/Source/Type2/Type2_25.tif',\n",
       "  '/home/aneesh/Images/Source/Type2/Type2_8.tif',\n",
       "  '/home/aneesh/Images/Source/Type2/Type2_30.tif',\n",
       "  '/home/aneesh/Images/Source/Type2/Type2_31.tif',\n",
       "  '/home/aneesh/Images/Source/Type2/Type2_7.tif',\n",
       "  '/home/aneesh/Images/Source/Type2/Type2_21.tif',\n",
       "  '/home/aneesh/Images/Source/Type2/Type2_28.tif',\n",
       "  '/home/aneesh/Images/Source/Type2/Type2_20.tif',\n",
       "  '/home/aneesh/Images/Source/Type2/Type2_17.tif',\n",
       "  '/home/aneesh/Images/Source/Type2/Type2_2.tif',\n",
       "  '/home/aneesh/Images/Source/Type2/Type2_1.tif',\n",
       "  '/home/aneesh/Images/Source/Type2/Type2_23.tif',\n",
       "  '/home/aneesh/Images/Source/Type2/Type2_29.tif',\n",
       "  '/home/aneesh/Images/Source/Type2/Type2_10.tif',\n",
       "  '/home/aneesh/Images/Source/Type2/Type2_27.tif']]"
      ]
     },
     "execution_count": 20,
     "metadata": {},
     "output_type": "execute_result"
    }
   ],
   "source": [
    "file_paths = [glob.glob(os.path.join(root_root,dor, '*.tif')) for dor in dir_of_root]\n",
    "file_paths"
   ]
  },
  {
   "cell_type": "markdown",
   "metadata": {},
   "source": [
    "We will stop here for this chapter. In the next chapter we will read and display our first image. "
   ]
  }
 ],
 "metadata": {
  "kernelspec": {
   "display_name": "Python 3",
   "language": "python",
   "name": "python3"
  },
  "language_info": {
   "codemirror_mode": {
    "name": "ipython",
    "version": 3
   },
   "file_extension": ".py",
   "mimetype": "text/x-python",
   "name": "python",
   "nbconvert_exporter": "python",
   "pygments_lexer": "ipython3",
   "version": "3.6.1"
  },
  "toc": {
   "colors": {
    "hover_highlight": "#DAA520",
    "navigate_num": "#000000",
    "navigate_text": "#333333",
    "running_highlight": "#FF0000",
    "selected_highlight": "#FFD700",
    "sidebar_border": "#EEEEEE",
    "wrapper_background": "#FFFFFF"
   },
   "moveMenuLeft": true,
   "nav_menu": {
    "height": "156px",
    "width": "252px"
   },
   "navigate_menu": true,
   "number_sections": true,
   "sideBar": true,
   "threshold": 4,
   "toc_cell": true,
   "toc_number_sections": true,
   "toc_section_display": "block",
   "toc_threshold": 6,
   "toc_window_display": false,
   "widenNotebook": false
  }
 },
 "nbformat": 4,
 "nbformat_minor": 2
}
